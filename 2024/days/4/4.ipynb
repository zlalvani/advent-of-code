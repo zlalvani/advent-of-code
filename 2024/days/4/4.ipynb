{
 "cells": [
  {
   "cell_type": "code",
   "execution_count": 2,
   "metadata": {},
   "outputs": [],
   "source": [
    "with open('input') as f:\n",
    "    lines = [l.strip() for l in f.readlines()]\n",
    "\n",
    "height = len(lines)\n",
    "width = len(lines[0])"
   ]
  },
  {
   "cell_type": "code",
   "execution_count": null,
   "metadata": {},
   "outputs": [
    {
     "name": "stdout",
     "output_type": "stream",
     "text": [
      "1970\n"
     ]
    }
   ],
   "source": [
    "# Part 1\n",
    "\n",
    "target = 'XMAS'\n",
    "\n",
    "found = 0\n",
    "\n",
    "for i, row in enumerate(lines):\n",
    "    for j, c in enumerate(row):\n",
    "        if c == target[0]:\n",
    "            for vertical_multiplier in range(-1, 2):\n",
    "                for horizontal_multiplier in range(-1, 2):\n",
    "                    if vertical_multiplier == 0 and horizontal_multiplier == 0:\n",
    "                        continue\n",
    "                    \n",
    "                    if i + (len(target) - 1) * vertical_multiplier >= height or i + (len(target) - 1) * vertical_multiplier < 0:\n",
    "                        continue\n",
    "\n",
    "                    if j + (len(target) - 1) * horizontal_multiplier >= width or j + (len(target) - 1) * horizontal_multiplier < 0:\n",
    "                        continue\n",
    "\n",
    "                    for k in range(1, len(target)):\n",
    "                        if lines[i + k * vertical_multiplier][j + k * horizontal_multiplier] != target[k]:\n",
    "                            break\n",
    "                    else:\n",
    "                        found += 1\n",
    "\n",
    "print(found)"
   ]
  },
  {
   "cell_type": "code",
   "execution_count": null,
   "metadata": {},
   "outputs": [
    {
     "name": "stdout",
     "output_type": "stream",
     "text": [
      "1939\n"
     ]
    }
   ],
   "source": [
    "# Part 2\n",
    "from collections import defaultdict\n",
    "\n",
    "def get_target_centers(target: str) -> dict[tuple[int, int], int]:\n",
    "    assert len(target) % 2 == 1\n",
    "\n",
    "    centers: dict[tuple[int, int], int] = defaultdict(int)\n",
    "\n",
    "    for i, row in enumerate(lines):\n",
    "        for j, c in enumerate(row):\n",
    "            if c == target[0]:\n",
    "                for vertical_multiplier in [-1, 1]:\n",
    "                    for horizontal_multiplier in [-1, 1]:\n",
    "                        if i + (len(target) - 1) * vertical_multiplier >= height or i + (len(target) - 1) * vertical_multiplier < 0:\n",
    "                            continue\n",
    "\n",
    "                        if j + (len(target) - 1) * horizontal_multiplier >= width or j + (len(target) - 1) * horizontal_multiplier < 0:\n",
    "                            continue\n",
    "\n",
    "                        for k in range(1, len(target)):\n",
    "                            if lines[i + k * vertical_multiplier][j + k * horizontal_multiplier] != target[k]:\n",
    "                                break\n",
    "                        else:\n",
    "                            centers[i + (len(target) - 1) // 2 * vertical_multiplier, j + (len(target) - 1) // 2 * horizontal_multiplier] += 1\n",
    "\n",
    "    return centers\n",
    "\n",
    "centers = get_target_centers('MAS')\n",
    "\n",
    "print(len([v for v in centers.values() if v == 2]))\n"
   ]
  }
 ],
 "metadata": {
  "kernelspec": {
   "display_name": ".venv",
   "language": "python",
   "name": "python3"
  },
  "language_info": {
   "codemirror_mode": {
    "name": "ipython",
    "version": 3
   },
   "file_extension": ".py",
   "mimetype": "text/x-python",
   "name": "python",
   "nbconvert_exporter": "python",
   "pygments_lexer": "ipython3",
   "version": "3.12.7"
  }
 },
 "nbformat": 4,
 "nbformat_minor": 2
}
