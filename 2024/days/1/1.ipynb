{
 "cells": [
  {
   "cell_type": "code",
   "execution_count": 1,
   "metadata": {},
   "outputs": [
    {
     "name": "stdout",
     "output_type": "stream",
     "text": [
      "1603498\n"
     ]
    }
   ],
   "source": [
    "## problem 1\n",
    "\n",
    "with open(\"input\") as f:\n",
    "    lines = f.readlines()\n",
    "\n",
    "first_nums: list[int] = []\n",
    "second_nums: list[int] = []\n",
    "for line in lines:\n",
    "    first, second = line.split()\n",
    "    first_nums.append(int(first))\n",
    "    second_nums.append(int(second))\n",
    "\n",
    "first_nums.sort()\n",
    "second_nums.sort()\n",
    "\n",
    "assert len(first_nums) == len(second_nums)\n",
    "\n",
    "total = 0\n",
    "for i in range(len(first_nums)):\n",
    "    total += abs(first_nums[i] - second_nums[i])\n",
    "\n",
    "print(total)\n",
    "        "
   ]
  },
  {
   "cell_type": "code",
   "execution_count": 2,
   "metadata": {},
   "outputs": [
    {
     "name": "stdout",
     "output_type": "stream",
     "text": [
      "25574739\n"
     ]
    }
   ],
   "source": [
    "from collections import defaultdict\n",
    "\n",
    "second_counts: dict[int, int] = defaultdict(int)\n",
    "\n",
    "for num in second_nums:\n",
    "    second_counts[num] += 1\n",
    "\n",
    "similarity = 0\n",
    "for num in first_nums:\n",
    "    similarity += second_counts[num] * num\n",
    "\n",
    "print(similarity)"
   ]
  }
 ],
 "metadata": {
  "kernelspec": {
   "display_name": ".venv",
   "language": "python",
   "name": "python3"
  },
  "language_info": {
   "codemirror_mode": {
    "name": "ipython",
    "version": 3
   },
   "file_extension": ".py",
   "mimetype": "text/x-python",
   "name": "python",
   "nbconvert_exporter": "python",
   "pygments_lexer": "ipython3",
   "version": "3.12.7"
  }
 },
 "nbformat": 4,
 "nbformat_minor": 2
}
