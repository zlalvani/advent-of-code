{
 "cells": [
  {
   "cell_type": "code",
   "execution_count": 18,
   "metadata": {},
   "outputs": [],
   "source": [
    "with open('input') as f:\n",
    "    lines = f.readlines()\n",
    "    lines = [line.strip() for line in lines]\n",
    "\n",
    "rules: list[tuple[str, str]] = []\n",
    "updates: list[list[str]] = []\n",
    "\n",
    "for line in lines:\n",
    "    if '|' in line:\n",
    "        a, b = line.split('|')\n",
    "        rules.append((a, b))\n",
    "    elif ',' in line:\n",
    "        updates.append(line.split(','))"
   ]
  },
  {
   "cell_type": "code",
   "execution_count": 19,
   "metadata": {},
   "outputs": [
    {
     "name": "stdout",
     "output_type": "stream",
     "text": [
      "4959\n"
     ]
    }
   ],
   "source": [
    "# Part 1\n",
    "\n",
    "from dataclasses import dataclass\n",
    "\n",
    "@dataclass(frozen=True)\n",
    "class Node:\n",
    "    name: str\n",
    "    prerequisites: set[str]\n",
    "    postrequisites: set[str]\n",
    "\n",
    "def make_graph(available_nodes: set[str]) -> dict[str, Node]:\n",
    "    nodes: dict[str, Node] = {}\n",
    "\n",
    "    for rule in rules:\n",
    "        pre, post = rule\n",
    "\n",
    "        if pre not in available_nodes or post not in available_nodes:\n",
    "            continue\n",
    "\n",
    "        if pre not in nodes:\n",
    "            nodes[pre] = Node(pre, set(), set())\n",
    "\n",
    "        pre_node = nodes[pre]\n",
    "\n",
    "        if post not in nodes:\n",
    "            nodes[post] = Node(post, set(), set())\n",
    "\n",
    "        post_node = nodes[post]\n",
    "\n",
    "        pre_node.postrequisites.add(post)\n",
    "        post_node.prerequisites.add(pre)\n",
    "\n",
    "    return nodes\n",
    "\n",
    "sum_ = 0\n",
    "\n",
    "for update in updates:\n",
    "    available_nodes = set(update)\n",
    "    nodes = make_graph(available_nodes)\n",
    "\n",
    "    pre_set: set[str] = set()\n",
    "    post_set = available_nodes.copy()\n",
    "\n",
    "    for n in update:\n",
    "        post_set.remove(n)\n",
    "        node = nodes[n]\n",
    "        if not node.prerequisites.issubset(pre_set):\n",
    "            break\n",
    "        pre_set.add(n)\n",
    "    else:\n",
    "        sum_ += int(update[len(update) // 2])\n",
    "\n",
    "print(sum_)\n",
    "    "
   ]
  },
  {
   "cell_type": "code",
   "execution_count": 20,
   "metadata": {},
   "outputs": [
    {
     "name": "stdout",
     "output_type": "stream",
     "text": [
      "4655\n"
     ]
    }
   ],
   "source": [
    "# Part 2\n",
    "\n",
    "# Kahn's algorithm\n",
    "def topsort(graph: dict[str, Node]) -> list[str]:\n",
    "    l: list[str] = []\n",
    "    s: set[str] = set([node.name for node in graph.values() if len(node.prerequisites) == 0])\n",
    "\n",
    "    while len(s) > 0:\n",
    "        n = s.pop()\n",
    "        l.append(n)\n",
    "\n",
    "        for m in graph[n].postrequisites:\n",
    "            graph[m].prerequisites.remove(n)\n",
    "            if len(graph[m].prerequisites) == 0:\n",
    "                s.add(m)\n",
    "\n",
    "    return l\n",
    "\n",
    "sum_ = 0\n",
    "\n",
    "for update in updates:\n",
    "    available_nodes = set(update)\n",
    "    nodes = make_graph(available_nodes)\n",
    "\n",
    "    pre_set: set[str] = set()\n",
    "    post_set = available_nodes.copy()\n",
    "\n",
    "    for n in update:\n",
    "        post_set.remove(n)\n",
    "        node = nodes[n]\n",
    "        if not node.prerequisites.issubset(pre_set):\n",
    "            rearranged = topsort(nodes)\n",
    "            sum_ += int(rearranged[len(rearranged) // 2])\n",
    "            break\n",
    "        pre_set.add(n)\n",
    "\n",
    "print(sum_)"
   ]
  }
 ],
 "metadata": {
  "kernelspec": {
   "display_name": ".venv",
   "language": "python",
   "name": "python3"
  },
  "language_info": {
   "codemirror_mode": {
    "name": "ipython",
    "version": 3
   },
   "file_extension": ".py",
   "mimetype": "text/x-python",
   "name": "python",
   "nbconvert_exporter": "python",
   "pygments_lexer": "ipython3",
   "version": "3.12.7"
  }
 },
 "nbformat": 4,
 "nbformat_minor": 2
}
