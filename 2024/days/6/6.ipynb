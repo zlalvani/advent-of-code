{
 "cells": [
  {
   "cell_type": "code",
   "execution_count": 3,
   "metadata": {},
   "outputs": [],
   "source": [
    "with open('input') as f:\n",
    "    grid = [list(l.strip()) for l in f.readlines()]\n",
    "\n",
    "width = len(grid[0])\n",
    "height = len(grid)"
   ]
  },
  {
   "cell_type": "code",
   "execution_count": 5,
   "metadata": {},
   "outputs": [
    {
     "name": "stdout",
     "output_type": "stream",
     "text": [
      "4964\n"
     ]
    }
   ],
   "source": [
    "# Part 1\n",
    "\n",
    "directions = {\n",
    "    '^': (-1, 0),\n",
    "    '>': (0, 1),\n",
    "    'v': (1, 0),\n",
    "    '<': (0, -1)\n",
    "}\n",
    "current_direction_idx = 0\n",
    "\n",
    "visited_positions: set[tuple[int, int]] = set()\n",
    "\n",
    "start = None\n",
    "\n",
    "for i, row in enumerate(grid):\n",
    "    for j, cell in enumerate(row):\n",
    "        if cell == '^':\n",
    "            start = (i, j)\n",
    "            break\n",
    "    if start:\n",
    "        break\n",
    "\n",
    "assert start is not None\n",
    "\n",
    "current_position = start\n",
    "\n",
    "def is_valid_position(i: int, j: int) -> bool:\n",
    "    return 0 <= i < height and 0 <= j < width\n",
    "\n",
    "def add_tuple(t1: tuple[int, int], t2: tuple[int, int]) -> tuple[int, int]:\n",
    "    return (t1[0] + t2[0], t1[1] + t2[1])\n",
    "\n",
    "def get_current_direction() -> str:\n",
    "    return list(directions.keys())[current_direction_idx]\n",
    "\n",
    "while is_valid_position(*current_position):\n",
    "    visited_positions.add(current_position)\n",
    "\n",
    "    i, j = add_tuple(current_position, directions[get_current_direction()])\n",
    "\n",
    "    if is_valid_position(i, j) and grid[i][j] == '#':\n",
    "        current_direction_idx = (current_direction_idx + 1) % 4\n",
    "    else:\n",
    "        current_position = (i, j)\n",
    "\n",
    "print(len(visited_positions))\n",
    "    "
   ]
  },
  {
   "cell_type": "code",
   "execution_count": null,
   "metadata": {},
   "outputs": [],
   "source": [
    "# Part 2"
   ]
  }
 ],
 "metadata": {
  "kernelspec": {
   "display_name": ".venv",
   "language": "python",
   "name": "python3"
  },
  "language_info": {
   "codemirror_mode": {
    "name": "ipython",
    "version": 3
   },
   "file_extension": ".py",
   "mimetype": "text/x-python",
   "name": "python",
   "nbconvert_exporter": "python",
   "pygments_lexer": "ipython3",
   "version": "3.12.7"
  }
 },
 "nbformat": 4,
 "nbformat_minor": 2
}
