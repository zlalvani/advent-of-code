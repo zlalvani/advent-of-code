{
 "cells": [
  {
   "cell_type": "code",
   "execution_count": 4,
   "metadata": {},
   "outputs": [
    {
     "name": "stdout",
     "output_type": "stream",
     "text": [
      "314\n"
     ]
    }
   ],
   "source": [
    "# part 1\n",
    "\n",
    "with open('input') as f:\n",
    "    lines = f.readlines()\n",
    "\n",
    "reports: list[list[int]] = []\n",
    "for line in lines:\n",
    "    reports.append([int(x) for x in line.split()])\n",
    "\n",
    "unsafe = 0\n",
    "for report in reports:\n",
    "    last_difference: int | None = None\n",
    "    for i in range(len(report) - 1): \n",
    "        j = i + 1\n",
    "        difference = report[i] - report[j]\n",
    "\n",
    "        if abs(difference) < 1 or abs(difference) > 3:\n",
    "            unsafe += 1\n",
    "            break\n",
    "\n",
    "        if last_difference is not None and last_difference // abs(last_difference) != difference // abs(difference):\n",
    "            unsafe += 1\n",
    "            break\n",
    "            \n",
    "        last_difference = difference\n",
    "\n",
    "print(len(reports) - unsafe)"
   ]
  },
  {
   "cell_type": "code",
   "execution_count": null,
   "metadata": {},
   "outputs": [
    {
     "name": "stdout",
     "output_type": "stream",
     "text": [
      "373\n"
     ]
    }
   ],
   "source": [
    "# part 2\n",
    "with open('input') as f:\n",
    "    lines = f.readlines()\n",
    "\n",
    "reports: list[list[int]] = []\n",
    "for line in lines:\n",
    "    reports.append([int(x) for x in line.split()])\n",
    "\n",
    "unsafe = 0\n",
    "for report in reports:\n",
    "    omitted_unsafes = 0\n",
    "    for skip in range(0, len(report)):\n",
    "        report_omitted = report[:skip] + report[skip + 1:]\n",
    "        \n",
    "        last_difference: int | None = None\n",
    "        for i in range(len(report_omitted) - 1): \n",
    "            j = i + 1\n",
    "            difference = report_omitted[i] - report_omitted[j]\n",
    "\n",
    "            if abs(difference) < 1 or abs(difference) > 3:\n",
    "                omitted_unsafes += 1\n",
    "                break\n",
    "\n",
    "            if last_difference is not None and last_difference // abs(last_difference) != difference // abs(difference):\n",
    "                omitted_unsafes += 1\n",
    "                break\n",
    "                \n",
    "            last_difference = difference\n",
    "\n",
    "    if omitted_unsafes == len(report):\n",
    "        unsafe += 1\n",
    "\n",
    "print(len(reports) - unsafe)"
   ]
  },
  {
   "cell_type": "code",
   "execution_count": null,
   "metadata": {},
   "outputs": [],
   "source": []
  }
 ],
 "metadata": {
  "kernelspec": {
   "display_name": ".venv",
   "language": "python",
   "name": "python3"
  },
  "language_info": {
   "codemirror_mode": {
    "name": "ipython",
    "version": 3
   },
   "file_extension": ".py",
   "mimetype": "text/x-python",
   "name": "python",
   "nbconvert_exporter": "python",
   "pygments_lexer": "ipython3",
   "version": "3.12.7"
  }
 },
 "nbformat": 4,
 "nbformat_minor": 2
}
